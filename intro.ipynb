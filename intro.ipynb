{
  "nbformat": 4,
  "nbformat_minor": 0,
  "metadata": {
    "colab": {
      "name": "intro.ipynb",
      "provenance": [],
      "collapsed_sections": [],
      "authorship_tag": "ABX9TyO3Db3F/XYm47WLYw7D/6l/",
      "include_colab_link": true
    },
    "kernelspec": {
      "name": "python3",
      "display_name": "Python 3"
    }
  },
  "cells": [
    {
      "cell_type": "markdown",
      "metadata": {
        "id": "view-in-github",
        "colab_type": "text"
      },
      "source": [
        "<a href=\"https://colab.research.google.com/github/JeremiShane/test-colab2/blob/master/intro.ipynb\" target=\"_parent\"><img src=\"https://colab.research.google.com/assets/colab-badge.svg\" alt=\"Open In Colab\"/></a>"
      ]
    },
    {
      "cell_type": "markdown",
      "metadata": {
        "id": "ayOqDN6FQ8IJ",
        "colab_type": "text"
      },
      "source": [
        "### Sales"
      ]
    },
    {
      "cell_type": "code",
      "metadata": {
        "id": "lAAqomeuQiIw",
        "colab_type": "code",
        "colab": {
          "base_uri": "https://localhost:8080/",
          "height": 34
        },
        "outputId": "b059134a-1adf-4bfe-e36e-6b7bfc35f772"
      },
      "source": [
        "revenue = 100000\n",
        "tax = 0.19\n",
        "income = revenue * tax\n",
        "income"
      ],
      "execution_count": null,
      "outputs": [
        {
          "output_type": "execute_result",
          "data": {
            "text/plain": [
              "19000.0"
            ]
          },
          "metadata": {
            "tags": []
          },
          "execution_count": 4
        }
      ]
    },
    {
      "cell_type": "markdown",
      "metadata": {
        "id": "J_YavyAXRJgg",
        "colab_type": "text"
      },
      "source": [
        "### Summary"
      ]
    },
    {
      "cell_type": "code",
      "metadata": {
        "id": "cUOdloi7RUbp",
        "colab_type": "code",
        "colab": {
          "base_uri": "https://localhost:8080/",
          "height": 35
        },
        "outputId": "8aef4012-6e96-44e8-e8dc-f44ad61c9cbd"
      },
      "source": [
        "import numpy as np\n",
        "\n",
        "np.__version__ #show version"
      ],
      "execution_count": null,
      "outputs": [
        {
          "output_type": "execute_result",
          "data": {
            "application/vnd.google.colaboratory.intrinsic": {
              "type": "string"
            },
            "text/plain": [
              "'1.18.5'"
            ]
          },
          "metadata": {
            "tags": []
          },
          "execution_count": 5
        }
      ]
    },
    {
      "cell_type": "code",
      "metadata": {
        "id": "mWZcJ15QR5Pa",
        "colab_type": "code",
        "colab": {}
      },
      "source": [
        "np.random.rand? #? to get documentation"
      ],
      "execution_count": null,
      "outputs": []
    },
    {
      "cell_type": "code",
      "metadata": {
        "id": "XEHaCXQkSQsQ",
        "colab_type": "code",
        "colab": {
          "base_uri": "https://localhost:8080/",
          "height": 303
        },
        "outputId": "b85aa97a-8038-419d-a1a5-393c20512ba4"
      },
      "source": [
        "pip install imageai"
      ],
      "execution_count": null,
      "outputs": [
        {
          "output_type": "stream",
          "text": [
            "Collecting imageai\n",
            "\u001b[?25l  Downloading https://files.pythonhosted.org/packages/09/99/4023e191a343fb23f01ae02ac57a5ca58037c310e8d8c62f87638a3bafc7/imageai-2.1.5-py3-none-any.whl (180kB)\n",
            "\u001b[K     |████████████████████████████████| 184kB 2.7MB/s \n",
            "\u001b[?25hRequirement already satisfied: scipy in /usr/local/lib/python3.6/dist-packages (from imageai) (1.4.1)\n",
            "Requirement already satisfied: pillow in /usr/local/lib/python3.6/dist-packages (from imageai) (7.0.0)\n",
            "Requirement already satisfied: h5py in /usr/local/lib/python3.6/dist-packages (from imageai) (2.10.0)\n",
            "Requirement already satisfied: numpy in /usr/local/lib/python3.6/dist-packages (from imageai) (1.18.5)\n",
            "Requirement already satisfied: matplotlib in /usr/local/lib/python3.6/dist-packages (from imageai) (3.2.2)\n",
            "Requirement already satisfied: six in /usr/local/lib/python3.6/dist-packages (from h5py->imageai) (1.12.0)\n",
            "Requirement already satisfied: python-dateutil>=2.1 in /usr/local/lib/python3.6/dist-packages (from matplotlib->imageai) (2.8.1)\n",
            "Requirement already satisfied: pyparsing!=2.0.4,!=2.1.2,!=2.1.6,>=2.0.1 in /usr/local/lib/python3.6/dist-packages (from matplotlib->imageai) (2.4.7)\n",
            "Requirement already satisfied: kiwisolver>=1.0.1 in /usr/local/lib/python3.6/dist-packages (from matplotlib->imageai) (1.2.0)\n",
            "Requirement already satisfied: cycler>=0.10 in /usr/local/lib/python3.6/dist-packages (from matplotlib->imageai) (0.10.0)\n",
            "Installing collected packages: imageai\n",
            "Successfully installed imageai-2.1.5\n"
          ],
          "name": "stdout"
        }
      ]
    },
    {
      "cell_type": "code",
      "metadata": {
        "id": "2F4evF8aSFC8",
        "colab_type": "code",
        "colab": {}
      },
      "source": [
        "import imageai"
      ],
      "execution_count": null,
      "outputs": []
    },
    {
      "cell_type": "markdown",
      "metadata": {
        "id": "RctA92AVScyQ",
        "colab_type": "text"
      },
      "source": [
        "### Markdown"
      ]
    },
    {
      "cell_type": "markdown",
      "metadata": {
        "id": "jdFHuH5fShK3",
        "colab_type": "text"
      },
      "source": [
        "Examples of *markdown*\n",
        "\n",
        "Examples of **markdown**\n",
        "\n",
        "__markdown__\n",
        "\n",
        "`markdown`\n",
        "\n",
        "```\n",
        "markdown\n",
        "```\n",
        "> indent\n",
        ">>> Code\n",
        "\n",
        "An ordered list:\n",
        "1. One\n",
        "2. Two\n",
        "3. Three\n",
        "\n",
        "An unordered list:\n",
        "* one \n",
        "* two\n",
        "* three\n",
        "\n",
        "\n",
        "\n",
        "\n",
        "\n",
        "\n"
      ]
    },
    {
      "cell_type": "markdown",
      "metadata": {
        "id": "SZNdlylZT-yE",
        "colab_type": "text"
      },
      "source": [
        "[text to display](https://www.google.com/)\n",
        "\n",
        "image\n",
        "![Python](https://www.python.org/static/community_logos/python-logo-master-v3-TM.png)\n",
        "\n"
      ]
    },
    {
      "cell_type": "markdown",
      "metadata": {
        "id": "ykLxEYREVJ1k",
        "colab_type": "text"
      },
      "source": [
        "$y = x^2$\n",
        "\n",
        "$\\frac{1}{n} \\sum_{i=1}^{n}x_{i}$\n"
      ]
    },
    {
      "cell_type": "markdown",
      "metadata": {
        "id": "37sxPTUIV19A",
        "colab_type": "text"
      },
      "source": [
        "to build a matrix\n",
        "\n",
        "$A = \\begin{pmatrix}\n",
        "a_{1, 1} & a_{1, 2} \\\\\n",
        "a_{2, 1} & a_{2, 2}\n",
        "\\end{pmatrix}$"
      ]
    },
    {
      "cell_type": "markdown",
      "metadata": {
        "id": "QfgRNUgFWX5N",
        "colab_type": "text"
      },
      "source": [
        "column and rows\n",
        "\n",
        "col1 | col2 | col3\n",
        "--- | --- | ---\n",
        "val1 | val2 | val3\n"
      ]
    },
    {
      "cell_type": "code",
      "metadata": {
        "id": "1XYBRrfMSWAQ",
        "colab_type": "code",
        "colab": {
          "base_uri": "https://localhost:8080/",
          "height": 318
        },
        "outputId": "0b0590ce-d00d-4d74-f242-34f8291061b4"
      },
      "source": [
        "age = 20\n",
        "print('I\\'m %s years old.' % age)\n",
        "\n",
        "age = 20\n",
        "print(f\"I'm {age} years old.\")\n",
        "\n",
        "code = \"Python\"\n",
        "version = 3.8\n",
        "\n",
        "print(f\"I\\'m learning {code} version {version}\") \n",
        "# f-strings are formatted string literals\n",
        "\n",
        "price = 199.99\n",
        "print('This costs', price)\n",
        "\n",
        "price = 69.99\n",
        "print(f'This costs {price}')\n",
        "\n",
        "price = 34.99\n",
        "price_unit = '$'\n",
        "\n",
        "weight = 20\n",
        "weight_unit = 'lbs'\n",
        "\n",
        "print(f\"Price: {price_unit}{price}. Weight: {weight} {weight_unit}.\")\n",
        "\n",
        "pi = 3.1415926535\n",
        "print(f\"Pi: {round(pi, 2)}\")\n",
        "\n",
        "pi = 3.1415926535\n",
        "print(f'Pi: {pi:.2f}')\n",
        "\n",
        "print(40 * \"-\") # print 40 - characters\n",
        "print(\"VERSION: 1.0.1\")\n",
        "print(40 * \"-\")\n",
        "\n",
        "print('=' * 40)\n",
        "print('author: johnsmith@sample.com')\n",
        "print('date: 01-01-2021')\n",
        "print('=' * 40)\n",
        "\n",
        "# sep function\n",
        "print('summer', 'time', 'holiday', sep='#')\n",
        "\n",
        "# squared, area of a circle\n",
        "pi = 3.14\n",
        "radius = 5\n",
        "area = pi * radius ** 2\n",
        "print(f'Area: {area:.1f} in2')\n",
        "\n",
        "# compount interest\n",
        "initial_investment = 1000\n",
        "apr = .03\n",
        "term_in_years = 5\n",
        "# with annual capitalization\n",
        "\n",
        "# simple interest formula, not the right one here\n",
        "# A = P(1 + rt) amount = the principal(1 + rate*time)\n",
        "\n",
        "#compound iterest is with annual capitalization\n",
        "#  = P [(1 + i)n – 1]\n",
        "\n",
        "gain = initial_investment*(((1 + apr) ** term_in_years) - 1)\n",
        "new = initial_investment + gain\n",
        "print(f\"The future value of the investment: {new:.2f} USD\")\n",
        "\n",
        "# another example of compunt interest\n",
        "pv = 1000\n",
        "r = 0.03\n",
        "n = 5\n",
        "fv = pv * (1 + r) ** n\n",
        "print(f'The future value of the investment: {fv:.2f} USD')\n",
        "\n",
        "# quadratic equation delta\n",
        "# polynomials\n",
        "# discriminate\n",
        "# quadratic equation\n",
        "#solve for 3x^2 - 4x + 1 = 0\n",
        "# ax^2+bx+c = 0\n",
        "\n",
        "# delta often represents the descriminent of a polynomial equation\n",
        "# to determine roots -b+- squareroot(b^2-4ac) / 2a\n",
        "# the descriminent is b^2 - 4ac\n",
        "# if is 0 then only one real root\n",
        "# if >0 then two distinct real roots\n",
        "# if <0 then two complex roots\n",
        "a = 3\n",
        "b = -4\n",
        "c = 1\n",
        "delta = b ** 2 - 4 * a * c\n",
        "print(f'Delta: {delta}')\n",
        "\n",
        "# the sum of the first 10 elements in a sequence\n",
        "# sequence formula is An = 10 + 4n\n",
        "# i.e. n = 1, A1 = 10 + 4(1) = 14\n",
        "\n",
        "# the sum of the first 10 elements in a sequence\n",
        "# sequence formula is An = 10 + 4n\n",
        "# i.e. n = 1, A1 = 10 + 4(1) = 14\n",
        "\n",
        "a1 = 14\n",
        "a10 = 50\n",
        "n = 10\n",
        "s10 = ((a1 + a10) / 2) * n\n",
        "print(f'The sum of the first 10 elements in a sequence: {s10}')\n",
        "\n",
        "# geometric sequence\n",
        "# the sum of the first six elements \n",
        "#An = 8*2^(n-1)\n",
        "n=6\n",
        "\n",
        "A1 = 8\n",
        "A2 = 8*2\n",
        "q = A2/A1\n",
        "\n",
        "A6 = 8*2**5\n",
        "\n",
        "#s6 = ((A1 + A6) / 2) * n\n",
        "\n",
        "s6 = A1 * ((1 - q**n) / (1 - q))\n",
        "print(f\"The sum of the first {n} elements of the sequence is: {s6:.1f}\")\n",
        "\n"
      ],
      "execution_count": 2,
      "outputs": [
        {
          "output_type": "stream",
          "text": [
            "I'm 20 years old.\n",
            "I'm 20 years old.\n",
            "I'm learning Python version 3.8\n",
            "This costs 199.99\n",
            "This costs 69.99\n",
            "Price: $34.99. Weight: 20 lbs.\n",
            "Pi: 3.14\n",
            "Pi: 3.14\n",
            "----------------------------------------\n",
            "VERSION: 1.0.1\n",
            "----------------------------------------\n",
            "========================================\n",
            "author: johnsmith@sample.com\n",
            "date: 01-01-2021\n",
            "========================================\n",
            "summer#time#holiday\n",
            "Area: 78.5 in2\n"
          ],
          "name": "stdout"
        }
      ]
    },
    {
      "cell_type": "code",
      "metadata": {
        "id": "vh1rdeXNbuB0",
        "colab_type": "code",
        "colab": {}
      },
      "source": [
        ""
      ],
      "execution_count": null,
      "outputs": []
    }
  ]
}